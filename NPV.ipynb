{
 "cells": [
  {
   "cell_type": "markdown",
   "id": "8e6c38c1-31b0-4770-9f50-bf4439148551",
   "metadata": {},
   "source": [
    "<h1>Import Libraries</h1>"
   ]
  },
  {
   "cell_type": "code",
   "execution_count": 10,
   "id": "7321b015-a573-4853-ac6b-2627bd2d81af",
   "metadata": {},
   "outputs": [],
   "source": [
    "import pandas as pd\n",
    "from tabulate import tabulate"
   ]
  },
  {
   "cell_type": "markdown",
   "id": "958bab81-4453-45d4-8887-6bdc7b949345",
   "metadata": {},
   "source": [
    "<h1>Create Functions</h1>"
   ]
  },
  {
   "cell_type": "code",
   "execution_count": 40,
   "id": "b86a2805-ed34-40d5-8630-c21734f6173f",
   "metadata": {},
   "outputs": [],
   "source": [
    "class FinancialCalculations:\n",
    "    def pv(self, rate, nper, pmt=0, fv=0, payment_type=0, currency=\"$\"):\n",
    "        \"\"\"\n",
    "        Calculate the present value of an investment.\n",
    "\n",
    "        Parameters:\n",
    "        - rate (float): The discount rate per period.\n",
    "        - nper (int): The total number of periods.\n",
    "        - pmt (float, optional): The periodic payment (annuity). Default is 0.\n",
    "        - fv (float, optional): The future value (lump sum payment). Default is 0.\n",
    "        - payment_type (int, optional): 0 for end-of-period payments (default), 1 for beginning-of-period payments.\n",
    "\n",
    "        \"\"\"\n",
    "        if payment_type == 1:\n",
    "            pmt_adjusted = pmt * (1 + rate)\n",
    "        else:\n",
    "            pmt_adjusted = pmt\n",
    "\n",
    "        if rate != 0:\n",
    "            pv_pmt = pmt_adjusted * (1 - (1 + rate) ** -nper) / rate\n",
    "        else:\n",
    "            pv_pmt = pmt * nper\n",
    "\n",
    "        pv_fv = fv / (1 + rate) ** nper\n",
    "        present_value = pv_pmt + pv_fv\n",
    "\n",
    "        print(\"\\nPresent Value:\", currency, round(present_value, 2),'\\n')\n",
    "        \n",
    "\n",
    "    def fv(self, pv, rate, nper, pmt=0, payment_type=0, currency=\"$\"):\n",
    "        \"\"\"\n",
    "        Calculate the future value of an investment.\n",
    "\n",
    "        Parameters:\n",
    "        - pv (float): The present value (initial investment).\n",
    "        - rate (float): The rate of return per period.\n",
    "        - nper (int): The total number of periods.\n",
    "        - pmt (float, optional): The periodic payment (annuity). Default is 0.\n",
    "        - payment_type (int, optional): 0 for end-of-period payments (default), 1 for beginning-of-period payments.\n",
    "\n",
    "        \"\"\"\n",
    "        fv_pv = pv * (1 + rate) ** nper\n",
    "        if rate != 0:\n",
    "            fv_pmt = pmt * ((1 + rate) ** nper - 1) / rate\n",
    "            if payment_type == 1:\n",
    "                fv_pmt *= (1 + rate)\n",
    "        else:\n",
    "            fv_pmt = pmt * nper\n",
    "\n",
    "        total_fv = fv_pv + fv_pmt\n",
    "        print(\"\\nFuture Value:\", currency, round(total_fv, 2),'\\n')\n",
    "        \n",
    "\n",
    "    def npv(self, cash_flows, rate, currency=\"$\"):\n",
    "        \"\"\"\n",
    "        Calculate the Net Present Value (NPV) of a series of cash flows and create a table with the results.\n",
    "    \n",
    "        Parameters:\n",
    "        - cash_flows (list of float): List of cash flows over time. The initial investment (negative value)\n",
    "                                      should be included as the first element.\n",
    "        - rate (float): The discount rate per period.\n",
    "        - currency (str, optional): Currency symbol for result printing. Default is \"$\".\n",
    "    \n",
    "        Returns:\n",
    "        - A table with periods, present values, interests of each cash flow, and total NPV and total interest.\n",
    "        \"\"\"\n",
    "        npv = 0\n",
    "        total_interest = 0\n",
    "        table_data = []\n",
    "    \n",
    "        for t, cash_flow in enumerate(cash_flows):\n",
    "            present_value = cash_flow / (1 + rate) ** t\n",
    "            interest = cash_flow - present_value\n",
    "            table_data.append([t, f\"{currency}{round(present_value, 2)}\", f\"{currency}{round(interest, 2)}\"])\n",
    "            npv += present_value\n",
    "            total_interest += interest\n",
    "        \n",
    "        # Add the total NPV and total interest to the table\n",
    "        table_data.append([\"Total\", f\"{currency}{round(npv, 2)}\", f\"{currency}{round(total_interest, 2)}\"])\n",
    "    \n",
    "        # Print the table with GitHub style\n",
    "        print(tabulate(table_data, headers=[\"Period\", \"Present Value\", \"Interest\"], tablefmt=\"github\"))\n",
    "\n",
    "\n",
    "\n",
    "\n",
    "\n",
    "f = FinancialCalculations()\n"
   ]
  },
  {
   "cell_type": "markdown",
   "id": "5fb8a447-896a-4507-9753-ef164e8cfeda",
   "metadata": {},
   "source": [
    "<h1>Analysis</h1>"
   ]
  },
  {
   "cell_type": "markdown",
   "id": "eb3e8008-aa24-4ec7-af1e-93fd17c0eb7e",
   "metadata": {},
   "source": [
    "<h2>General</h2>"
   ]
  },
  {
   "cell_type": "markdown",
   "id": "fa1f7b32-144e-4906-944f-235f92a26061",
   "metadata": {},
   "source": [
    "<h3>Present Value</h3>"
   ]
  },
  {
   "cell_type": "code",
   "execution_count": 3,
   "id": "08ce035b-97d1-45cb-9f9a-3f88858ec756",
   "metadata": {},
   "outputs": [
    {
     "name": "stdout",
     "output_type": "stream",
     "text": [
      "\n",
      "Present Value: € 194.17 \n",
      "\n"
     ]
    }
   ],
   "source": [
    "rate = 0.03         \n",
    "nper = 1           \n",
    "fv = 200            \n",
    "pmt=0                \n",
    "payment_type=0\n",
    "\n",
    "\n",
    "f.pv(rate, nper, pmt, fv, payment_type, currency)"
   ]
  },
  {
   "cell_type": "markdown",
   "id": "1a861363-f4ed-49ec-80ab-8f82116a617b",
   "metadata": {},
   "source": [
    "<h3>Future Value</h3>"
   ]
  },
  {
   "cell_type": "code",
   "execution_count": 4,
   "id": "ef969cbc-925b-4a76-ac01-3a42d9ad0425",
   "metadata": {},
   "outputs": [
    {
     "name": "stdout",
     "output_type": "stream",
     "text": [
      "\n",
      "Future Value: € 1124.86 \n",
      "\n"
     ]
    }
   ],
   "source": [
    "rate = 0.04         \n",
    "nper = 3           \n",
    "pv = 1000            \n",
    "pmt=0                \n",
    "payment_type=0\n",
    "\n",
    "\n",
    "f.fv(pv, rate, nper, pmt, payment_type,currency)"
   ]
  },
  {
   "cell_type": "markdown",
   "id": "a3bb49e6-6434-4ca8-95c3-34e30ea82cd1",
   "metadata": {},
   "source": [
    "<h1>Profitability of Investment</h1>"
   ]
  },
  {
   "cell_type": "markdown",
   "id": "675f02e5-306c-4c6e-a9d4-0b2861303274",
   "metadata": {},
   "source": [
    "<h2>NPV</h2>"
   ]
  },
  {
   "cell_type": "code",
   "execution_count": 41,
   "id": "04a2cb1d-c243-4376-b0fd-32335dea0731",
   "metadata": {},
   "outputs": [
    {
     "name": "stdout",
     "output_type": "stream",
     "text": [
      "| Period   | Present Value   | Interest   |\n",
      "|----------|-----------------|------------|\n",
      "| 0        | $-100.0         | $0.0       |\n",
      "| 1        | $194.17         | $5.83      |\n",
      "| 2        | $282.78         | $17.22     |\n",
      "| 3        | $366.06         | $33.94     |\n",
      "| Total    | $743.01         | $56.99     |\n"
     ]
    }
   ],
   "source": [
    "rate = 0.03            \n",
    "currency = \"$\"\n",
    "\n",
    "c_f = [\n",
    "    -100,\n",
    "    200,\n",
    "    300,\n",
    "    400,\n",
    "]\n",
    "\n",
    "f.npv(c_f, rate, currency)"
   ]
  },
  {
   "cell_type": "code",
   "execution_count": null,
   "id": "e7fc9fdf-dbdb-4cb1-b70d-6c4e0509c3fd",
   "metadata": {},
   "outputs": [],
   "source": []
  },
  {
   "cell_type": "code",
   "execution_count": null,
   "id": "51e5836a-26fd-4f99-a139-651425d1f986",
   "metadata": {},
   "outputs": [],
   "source": []
  }
 ],
 "metadata": {
  "kernelspec": {
   "display_name": "Python 3 (ipykernel)",
   "language": "python",
   "name": "python3"
  },
  "language_info": {
   "codemirror_mode": {
    "name": "ipython",
    "version": 3
   },
   "file_extension": ".py",
   "mimetype": "text/x-python",
   "name": "python",
   "nbconvert_exporter": "python",
   "pygments_lexer": "ipython3",
   "version": "3.8.10"
  }
 },
 "nbformat": 4,
 "nbformat_minor": 5
}
