{
 "cells": [
  {
   "cell_type": "markdown",
   "id": "56606953-04fa-4eee-8fb9-508d26e15c5d",
   "metadata": {},
   "source": [
    "<h1>1. Import Libraries</h1>"
   ]
  },
  {
   "cell_type": "code",
   "execution_count": 85,
   "id": "10232d0a-27e5-4331-9b1e-ff37ff3ab505",
   "metadata": {},
   "outputs": [],
   "source": [
    "import pandas as pd\n",
    "import numpy as np\n",
    "import yfinance as yf\n",
    "from datetime import datetime\n",
    "\n",
    "#Descriptives\n",
    "\n",
    "##Corelation##\n",
    "import scipy\n",
    "import scipy.stats\n",
    "from scipy.stats import kurtosis\n",
    "from statsmodels.tsa.stattools import grangercausalitytests\n",
    "from itertools import permutations\n",
    "import matplotlib.pyplot as plt\n",
    "from pandas.plotting import lag_plot\n",
    "from statsmodels.tsa.vector_ar.var_model import VAR\n",
    "from statsmodels.tsa.stattools import kpss\n",
    "from statsmodels.tsa.stattools import adfuller\n",
    "import warnings\n",
    "warnings.filterwarnings(\"ignore\")"
   ]
  },
  {
   "cell_type": "markdown",
   "id": "a9569c28-8150-4ca5-bcf8-b90df04382c0",
   "metadata": {},
   "source": [
    "<h1>2. Create Functions</h1>"
   ]
  },
  {
   "cell_type": "markdown",
   "id": "389fe832-3f65-40fd-b8ce-f537f2ebcc2f",
   "metadata": {},
   "source": [
    "<h2>2.1 Download & Read Stock Informations</h2>"
   ]
  },
  {
   "cell_type": "code",
   "execution_count": 26,
   "id": "4977501f-6e94-4a7a-9591-cd9c213c6681",
   "metadata": {},
   "outputs": [],
   "source": [
    "def data(ticker_symbol: str, start_date: str, end_date: str, interval: str):\n",
    "    \"\"\"\n",
    "    Download stock data and return as a pandas DataFrame. \n",
    "    The data will be stored in a dictionary with the ticker symbol as the key.\n",
    "\n",
    "    Parameters:\n",
    "    ticker_symbol: The stock symbol (e.g., 'AAPL').\n",
    "    start_date: The start date in DD-MM-YYYY format (e.g., '01-01-2020').\n",
    "    end_date: The end date in DD-MM-YYYY format (e.g., '31-12-2020').\n",
    "    interval: The data interval. Valid intervals include '1m', '2m', '5m', '15m', '30m', '60m', '90m', '1h', \n",
    "              '1d', '5d', '1wk', '1mo', '3mo' (e.g., '1d' for daily data).\n",
    "    \"\"\"\n",
    "    def convert_date_format(date_string):\n",
    "        return datetime.strptime(date_string, '%d-%m-%Y').strftime('%Y-%m-%d')\n",
    "\n",
    "    start_date = convert_date_format(start_date)\n",
    "    end_date = convert_date_format(end_date)\n",
    "\n",
    "    # Download stock data\n",
    "    data = yf.download(ticker_symbol, start=start_date, end=end_date, interval=interval)\n",
    "\n",
    "    # Calculate % growth of Adj Close\n",
    "    data['Returns'] = data['Adj Close'].pct_change() * 100\n",
    "\n",
    "    # File name\n",
    "    file_name = f\"{ticker_symbol}.csv\"\n",
    "\n",
    "    # Save data to a CSV file\n",
    "    data.to_csv(file_name)\n",
    "\n",
    "    # Read the data from the saved CSV file\n",
    "    dataframe = pd.read_csv(file_name)\n",
    "\n",
    "    # Create a global variable based on the part of the ticker_symbol before the '.'\n",
    "    variable_name = ticker_symbol.split('.')[0]\n",
    "    globals()[variable_name] = dataframe\n"
   ]
  },
  {
   "cell_type": "markdown",
   "id": "5d71bf49-196e-482f-904c-edb791b1c236",
   "metadata": {},
   "source": [
    "<h2>2.2 Correlation</h2>"
   ]
  },
  {
   "cell_type": "code",
   "execution_count": 27,
   "id": "9b49e45a-2926-4187-8dcf-cd8c14f0ff6e",
   "metadata": {},
   "outputs": [],
   "source": [
    "def cor(df, method=\"Spearman\", p=\"F\"):\n",
    "    \"\"\"\n",
    "    Calculate the multivariable correlation matrix for a DataFrame,\n",
    "    using the specified method ('Spearman' or 'Pearson') and appends significance stars next to the correlation coefficient.\n",
    "\n",
    "    Parameters:\n",
    "        df: The DataFrame to analyze.\n",
    "        method: The correlation method to use ('Spearman' or 'Pearson').\n",
    "        p: Whether to print the p-value matrix or not (\"T\" for True, \"F\" for False).\n",
    "\n",
    "    Returns:\n",
    "        None\n",
    "    \"\"\"\n",
    "    def format_p_value(p_value):\n",
    "        formatted = f\"{p_value:0.3f}\"\n",
    "        if formatted.startswith(\"0.\"):\n",
    "            return formatted[1:]\n",
    "        return formatted\n",
    "\n",
    "    if method == \"Pearson\":\n",
    "        print(\"\\n\\n\" + \"=\" * 21 + f\"\\n {method} Correlation\\n\" + \"=\" * 21)\n",
    "    else:\n",
    "        print(\"\\n\\n\" + \"=\" * 27 + f\"\\n {method} Rank Correlation\\n\" + \"=\" * 27)\n",
    "\n",
    "    # Create empty DataFrames to store the correlation coefficients and p-values\n",
    "    corr_matrix = pd.DataFrame(index=df.columns, columns=df.columns)\n",
    "    pmatrix = pd.DataFrame(index=df.columns, columns=df.columns)\n",
    "\n",
    "    # Extract column names from DataFrame\n",
    "    keys = df.columns.tolist()\n",
    "\n",
    "    for i, key1 in enumerate(keys):\n",
    "        for j, key2 in enumerate(keys):\n",
    "            if i > j:\n",
    "                continue  # Skip duplicate pairs\n",
    "\n",
    "            data1 = df[key1].dropna()\n",
    "            data2 = df[key2].dropna()\n",
    "\n",
    "            # Find the common index between the two variables where neither is NaN\n",
    "            common_index = data1.index.intersection(data2.index)\n",
    "\n",
    "            # Use only the common indices for correlation calculation\n",
    "            data1 = data1.loc[common_index]\n",
    "            data2 = data2.loc[common_index]\n",
    "\n",
    "            if len(common_index) < 2:\n",
    "                # Skip if less than two common observations\n",
    "                corr_matrix.at[key1, key2] = 'nan'\n",
    "                corr_matrix.at[key2, key1] = 'nan'\n",
    "                continue\n",
    "\n",
    "            if method == 'Spearman':\n",
    "                correlation, p_value = scipy.stats.spearmanr(data1, data2)\n",
    "            elif method == 'Pearson':\n",
    "                correlation, p_value = scipy.stats.pearsonr(data1, data2)\n",
    "            else:\n",
    "                raise ValueError(\"Method must be either 'Spearman' or 'Pearson'\")\n",
    "\n",
    "            # Populate the p-value matrix\n",
    "            pmatrix.at[key1, key2] = format_p_value(p_value)\n",
    "            pmatrix.at[key2, key1] = format_p_value(p_value)\n",
    "\n",
    "            # Determine the significance stars\n",
    "            stars = \"     \"\n",
    "            if p_value < 0.001:\n",
    "                stars = \" *** \"\n",
    "            elif p_value < 0.01:\n",
    "                stars = \" **  \"\n",
    "            elif p_value < 0.05:\n",
    "                stars = \" *   \"               \n",
    "            elif p_value < 0.1:\n",
    "                stars = \" .   \"\n",
    "                \n",
    "\n",
    "            # Round the results to three decimal places and append stars\n",
    "            correlation_str = f\"{format_p_value(correlation)}{stars}\"\n",
    "\n",
    "            # Populate the matrix\n",
    "            corr_matrix.at[key1, key2] = correlation_str\n",
    "            corr_matrix.at[key2, key1] = correlation_str\n",
    "\n",
    "    # Convert DataFrame to string and add spacing for visual presentation\n",
    "    corr_matrix_str = corr_matrix.to_string(sparsify=True, justify='center')\n",
    "\n",
    "    # Add explanation for significance stars\n",
    "    explanation = \"\\n\\n--\\nSignif. codes:  0.001 '***', 0.01 '**', 0.05 '*', 0.1 '.'\"\n",
    "\n",
    "    print(\"\\n\\n>> Correlation Matrix <<\\n\")\n",
    "    print(corr_matrix_str + explanation)\n",
    "\n",
    "    if p == \"T\":\n",
    "        print(\"\\n\\n>> P-Value Matrix <<\\n\")\n",
    "        print(pmatrix)\n",
    "    elif p == \"F\":\n",
    "        print(\"\")\n",
    "    else:\n",
    "        raise ValueError(\"Method must be either 'F' for False or 'T' for True\")"
   ]
  },
  {
   "cell_type": "markdown",
   "id": "29f5484b-17df-4ee5-a7ba-2ec6b5b0f1df",
   "metadata": {},
   "source": [
    "<h2>Variance</h2>"
   ]
  },
  {
   "cell_type": "code",
   "execution_count": 89,
   "id": "6624a5e9-6e5c-48c1-becb-3f1c9d42f553",
   "metadata": {},
   "outputs": [],
   "source": [
    "def var(data, ddof=0):\n",
    "    n = len(data)\n",
    "    mean = sum(data) / n\n",
    "    return sum((x - mean) ** 2 for x in data) / (n - ddof)"
   ]
  },
  {
   "cell_type": "markdown",
   "id": "353393c6-c832-418e-8e2c-174afa14664b",
   "metadata": {},
   "source": [
    "<h1>3 Analysis</h1>"
   ]
  },
  {
   "cell_type": "markdown",
   "id": "589c8d6a-9cd5-4c2e-87ac-a8dd34594621",
   "metadata": {},
   "source": [
    "<h2>3.1 Descriptives</h2>"
   ]
  },
  {
   "cell_type": "markdown",
   "id": "ac0d0028-e27c-4e2b-a6b0-69b4da778d46",
   "metadata": {
    "jp-MarkdownHeadingCollapsed": true
   },
   "source": [
    "<h3>2.1.1 Stock: VOO</h2>"
   ]
  },
  {
   "cell_type": "code",
   "execution_count": 81,
   "id": "bfd5a880-6ed1-42c0-9318-5cab4370f792",
   "metadata": {},
   "outputs": [
    {
     "name": "stdout",
     "output_type": "stream",
     "text": [
      "[*********************100%%**********************]  1 of 1 completed\n"
     ]
    }
   ],
   "source": [
    "Stock = 'VOO'\n",
    "SD = '01-01-2011'\n",
    "FD = '01-01-2020'\n",
    "P = '1mo'\n",
    "\n",
    "\n",
    "data(Stock,SD, FD,P)\n"
   ]
  },
  {
   "cell_type": "code",
   "execution_count": 82,
   "id": "77297fb8-286b-4dba-bc39-44cccf0072fb",
   "metadata": {},
   "outputs": [
    {
     "data": {
      "text/html": [
       "<div>\n",
       "<style scoped>\n",
       "    .dataframe tbody tr th:only-of-type {\n",
       "        vertical-align: middle;\n",
       "    }\n",
       "\n",
       "    .dataframe tbody tr th {\n",
       "        vertical-align: top;\n",
       "    }\n",
       "\n",
       "    .dataframe thead th {\n",
       "        text-align: right;\n",
       "    }\n",
       "</style>\n",
       "<table border=\"1\" class=\"dataframe\">\n",
       "  <thead>\n",
       "    <tr style=\"text-align: right;\">\n",
       "      <th></th>\n",
       "      <th>Date</th>\n",
       "      <th>Open</th>\n",
       "      <th>High</th>\n",
       "      <th>Low</th>\n",
       "      <th>Close</th>\n",
       "      <th>Adj Close</th>\n",
       "      <th>Volume</th>\n",
       "      <th>Returns</th>\n",
       "    </tr>\n",
       "  </thead>\n",
       "  <tbody>\n",
       "    <tr>\n",
       "      <th>0</th>\n",
       "      <td>2011-01-01</td>\n",
       "      <td>115.940002</td>\n",
       "      <td>119.220001</td>\n",
       "      <td>115.480003</td>\n",
       "      <td>117.699997</td>\n",
       "      <td>92.772644</td>\n",
       "      <td>4402150</td>\n",
       "      <td>NaN</td>\n",
       "    </tr>\n",
       "    <tr>\n",
       "      <th>1</th>\n",
       "      <td>2011-02-01</td>\n",
       "      <td>118.480003</td>\n",
       "      <td>123.220001</td>\n",
       "      <td>118.379997</td>\n",
       "      <td>121.779999</td>\n",
       "      <td>95.988548</td>\n",
       "      <td>2761400</td>\n",
       "      <td>3.466436</td>\n",
       "    </tr>\n",
       "    <tr>\n",
       "      <th>2</th>\n",
       "      <td>2011-03-01</td>\n",
       "      <td>122.279999</td>\n",
       "      <td>122.300003</td>\n",
       "      <td>114.639999</td>\n",
       "      <td>121.239998</td>\n",
       "      <td>95.562889</td>\n",
       "      <td>3866600</td>\n",
       "      <td>-0.443448</td>\n",
       "    </tr>\n",
       "    <tr>\n",
       "      <th>3</th>\n",
       "      <td>2011-04-01</td>\n",
       "      <td>122.120003</td>\n",
       "      <td>124.879997</td>\n",
       "      <td>118.440002</td>\n",
       "      <td>124.800003</td>\n",
       "      <td>98.809410</td>\n",
       "      <td>2302350</td>\n",
       "      <td>3.397261</td>\n",
       "    </tr>\n",
       "    <tr>\n",
       "      <th>4</th>\n",
       "      <td>2011-05-01</td>\n",
       "      <td>125.440002</td>\n",
       "      <td>125.440002</td>\n",
       "      <td>120.160004</td>\n",
       "      <td>123.339996</td>\n",
       "      <td>97.653473</td>\n",
       "      <td>2455100</td>\n",
       "      <td>-1.169865</td>\n",
       "    </tr>\n",
       "    <tr>\n",
       "      <th>...</th>\n",
       "      <td>...</td>\n",
       "      <td>...</td>\n",
       "      <td>...</td>\n",
       "      <td>...</td>\n",
       "      <td>...</td>\n",
       "      <td>...</td>\n",
       "      <td>...</td>\n",
       "      <td>...</td>\n",
       "    </tr>\n",
       "    <tr>\n",
       "      <th>103</th>\n",
       "      <td>2019-08-01</td>\n",
       "      <td>273.279999</td>\n",
       "      <td>276.279999</td>\n",
       "      <td>258.700012</td>\n",
       "      <td>268.600006</td>\n",
       "      <td>250.420197</td>\n",
       "      <td>76101400</td>\n",
       "      <td>-1.640514</td>\n",
       "    </tr>\n",
       "    <tr>\n",
       "      <th>104</th>\n",
       "      <td>2019-09-01</td>\n",
       "      <td>266.829987</td>\n",
       "      <td>277.980011</td>\n",
       "      <td>265.679993</td>\n",
       "      <td>272.600006</td>\n",
       "      <td>254.149414</td>\n",
       "      <td>45894200</td>\n",
       "      <td>1.489184</td>\n",
       "    </tr>\n",
       "    <tr>\n",
       "      <th>105</th>\n",
       "      <td>2019-10-01</td>\n",
       "      <td>273.440002</td>\n",
       "      <td>279.690002</td>\n",
       "      <td>261.589996</td>\n",
       "      <td>278.549988</td>\n",
       "      <td>260.932861</td>\n",
       "      <td>52876500</td>\n",
       "      <td>2.669078</td>\n",
       "    </tr>\n",
       "    <tr>\n",
       "      <th>106</th>\n",
       "      <td>2019-11-01</td>\n",
       "      <td>280.049988</td>\n",
       "      <td>289.779999</td>\n",
       "      <td>279.910004</td>\n",
       "      <td>288.649994</td>\n",
       "      <td>270.394012</td>\n",
       "      <td>43686600</td>\n",
       "      <td>3.625895</td>\n",
       "    </tr>\n",
       "    <tr>\n",
       "      <th>107</th>\n",
       "      <td>2019-12-01</td>\n",
       "      <td>289.029999</td>\n",
       "      <td>297.510010</td>\n",
       "      <td>282.100006</td>\n",
       "      <td>295.799988</td>\n",
       "      <td>277.091797</td>\n",
       "      <td>56497300</td>\n",
       "      <td>2.477046</td>\n",
       "    </tr>\n",
       "  </tbody>\n",
       "</table>\n",
       "<p>108 rows × 8 columns</p>\n",
       "</div>"
      ],
      "text/plain": [
       "           Date        Open        High         Low       Close   Adj Close  \\\n",
       "0    2011-01-01  115.940002  119.220001  115.480003  117.699997   92.772644   \n",
       "1    2011-02-01  118.480003  123.220001  118.379997  121.779999   95.988548   \n",
       "2    2011-03-01  122.279999  122.300003  114.639999  121.239998   95.562889   \n",
       "3    2011-04-01  122.120003  124.879997  118.440002  124.800003   98.809410   \n",
       "4    2011-05-01  125.440002  125.440002  120.160004  123.339996   97.653473   \n",
       "..          ...         ...         ...         ...         ...         ...   \n",
       "103  2019-08-01  273.279999  276.279999  258.700012  268.600006  250.420197   \n",
       "104  2019-09-01  266.829987  277.980011  265.679993  272.600006  254.149414   \n",
       "105  2019-10-01  273.440002  279.690002  261.589996  278.549988  260.932861   \n",
       "106  2019-11-01  280.049988  289.779999  279.910004  288.649994  270.394012   \n",
       "107  2019-12-01  289.029999  297.510010  282.100006  295.799988  277.091797   \n",
       "\n",
       "       Volume   Returns  \n",
       "0     4402150       NaN  \n",
       "1     2761400  3.466436  \n",
       "2     3866600 -0.443448  \n",
       "3     2302350  3.397261  \n",
       "4     2455100 -1.169865  \n",
       "..        ...       ...  \n",
       "103  76101400 -1.640514  \n",
       "104  45894200  1.489184  \n",
       "105  52876500  2.669078  \n",
       "106  43686600  3.625895  \n",
       "107  56497300  2.477046  \n",
       "\n",
       "[108 rows x 8 columns]"
      ]
     },
     "execution_count": 82,
     "metadata": {},
     "output_type": "execute_result"
    }
   ],
   "source": [
    "VOO"
   ]
  },
  {
   "cell_type": "code",
   "execution_count": 106,
   "id": "4768a303-4210-4cf8-b62d-96e47288a9e8",
   "metadata": {},
   "outputs": [
    {
     "name": "stdout",
     "output_type": "stream",
     "text": [
      "\n",
      "Average of Returns:  1.09 \n",
      "\n",
      "Variance of Returns:  0.0011865 \n",
      "\n",
      "Variance of Returns:  0.00034 \n",
      "\n"
     ]
    }
   ],
   "source": [
    "av_returns_VOO = np.mean(VOO['Returns'])\n",
    "print('\\nAverage of Returns: ',round(av_returns_VOO,2),'\\n')\n",
    "\n",
    "VOO['Returns']=np.array(VOO['Returns'])/100\n",
    "var_returns_VOO = np.var(VOO['Returns'], ddof=1)\n",
    "print('Variance of Returns: ',round(var_returns_VOO,7),'\\n')\n",
    "\n",
    "std_returns_VOO = np.std(VOO['Returns'])/100\n",
    "print('Variance of Returns: ',round(std_returns_VOO,5),'\\n')\n",
    "\n",
    "risk_free_VOO = 0.19"
   ]
  },
  {
   "cell_type": "markdown",
   "id": "5c82521e-acce-42b8-b8ef-8379c0106eb7",
   "metadata": {},
   "source": [
    "<h3>2.1.1 Stock: BLV</h2>"
   ]
  },
  {
   "cell_type": "code",
   "execution_count": 50,
   "id": "fbb6fc40-b2b2-4d89-9b14-4875b878e908",
   "metadata": {},
   "outputs": [
    {
     "name": "stdout",
     "output_type": "stream",
     "text": [
      "[*********************100%%**********************]  1 of 1 completed\n"
     ]
    }
   ],
   "source": [
    "Stock = 'BLV'\n",
    "SD = '01-01-2011'\n",
    "FD = '01-01-2020'\n",
    "P = '1mo'\n",
    "\n",
    "\n",
    "data(Stock,SD, FD,P)"
   ]
  },
  {
   "cell_type": "code",
   "execution_count": 51,
   "id": "891d66c0-0faf-4d0f-ad64-df0a5a0fe1fc",
   "metadata": {},
   "outputs": [
    {
     "name": "stdout",
     "output_type": "stream",
     "text": [
      "\n",
      "Average Returns:  0.623 \n",
      "\n",
      "Variance of Returns:  0.069 \n",
      "\n",
      "Standard Deviation of Returns:  0.069 \n",
      "\n"
     ]
    }
   ],
   "source": [
    "av_returns_BLV = np.mean(BLV['Returns'])\n",
    "print('\\nAverage Returns: ',round(av_returns_BLV,3),'\\n')\n",
    "\n",
    "var_returns_BLV = BLV['Returns'].var()/100\n",
    "print('Variance of Returns: ',round(var_returns_BLV,3),'\\n')\n",
    "\n",
    "std_returns_BLV = BLV['Returns'].var()/100\n",
    "print('Standard Deviation of Returns: ',round(std_returns_BLV,3),'\\n')\n",
    "\n",
    "risk_free_BLV = 0.19"
   ]
  },
  {
   "cell_type": "markdown",
   "id": "36146619-ae78-4e4b-a502-ef49daf27d83",
   "metadata": {},
   "source": [
    "<h2>3.2 Model</h2>"
   ]
  },
  {
   "cell_type": "markdown",
   "id": "10de1ffc-9b4f-4c79-a849-bc7c259c6633",
   "metadata": {},
   "source": [
    "<h3>3.2.1 Sharp Ratios</h3>"
   ]
  },
  {
   "cell_type": "code",
   "execution_count": 52,
   "id": "57f9d94f-9ac8-447f-8096-b43e5d9785e1",
   "metadata": {},
   "outputs": [
    {
     "name": "stdout",
     "output_type": "stream",
     "text": [
      "\n",
      "Sharp Ratio of VOO:  26.149 \n",
      "\n",
      "Sharp Ratio of BLV:  6.303 \n",
      "\n"
     ]
    }
   ],
   "source": [
    "sharp_VOO = (av_returns_VOO - risk_free_VOO)/std_returns_VOO\n",
    "print('\\nSharp Ratio of VOO: ',round(sharp_VOO,3),'\\n')\n",
    "\n",
    "sharp_BLV = (av_returns_BLV - risk_free_BLV)/std_returns_BLV\n",
    "print('Sharp Ratio of BLV: ',round(sharp_BLV,3),'\\n')"
   ]
  },
  {
   "cell_type": "markdown",
   "id": "bec7b294-d6af-4282-9c86-be975aaf49e0",
   "metadata": {},
   "source": [
    "<h3>3.2.2 Covariances & Correlations</h3>"
   ]
  },
  {
   "cell_type": "markdown",
   "id": "1abca9ed-6780-424b-99f2-2f19c552b18b",
   "metadata": {},
   "source": [
    "<h4>3.2.2.1 Covariance</h4>"
   ]
  },
  {
   "cell_type": "code",
   "execution_count": 61,
   "id": "07069d60-0e84-4efe-8eea-1615027224de",
   "metadata": {},
   "outputs": [
    {
     "name": "stdout",
     "output_type": "stream",
     "text": [
      "\n",
      "Covariance:  -1.566 \n",
      "\n"
     ]
    }
   ],
   "source": [
    "covariance = VOO['Returns'].cov(BLV['Returns'])\n",
    "print('\\nCovariance: ',round(covariance,3),'\\n')"
   ]
  },
  {
   "cell_type": "markdown",
   "id": "510bd32b-a93b-40a7-b343-1dbc96feb0f3",
   "metadata": {
    "jp-MarkdownHeadingCollapsed": true
   },
   "source": [
    "<h4>3.2.2.2 Correlation</h4>"
   ]
  },
  {
   "cell_type": "markdown",
   "id": "10241541-1978-43e0-9c96-3e38bfe188ff",
   "metadata": {
    "jp-MarkdownHeadingCollapsed": true
   },
   "source": [
    "<h5>Create Dataframe</h5>"
   ]
  },
  {
   "cell_type": "code",
   "execution_count": 54,
   "id": "d0c398a5-ced5-4a93-9a3d-4998d0fcdec9",
   "metadata": {},
   "outputs": [],
   "source": [
    "df = pd.DataFrame({'VOO': VOO['Returns'], 'BLV': BLV['Returns']})"
   ]
  },
  {
   "cell_type": "markdown",
   "id": "d316dce0-c51e-4975-be81-ecebf50164ed",
   "metadata": {
    "jp-MarkdownHeadingCollapsed": true
   },
   "source": [
    "<h5>Main Correlation</h5>"
   ]
  },
  {
   "cell_type": "code",
   "execution_count": 55,
   "id": "78d6bbdb-34d7-4b8b-9308-2f661a7a14e0",
   "metadata": {},
   "outputs": [
    {
     "name": "stdout",
     "output_type": "stream",
     "text": [
      "\n",
      "\n",
      "===========================\n",
      " Spearman Rank Correlation\n",
      "===========================\n",
      "\n",
      "\n",
      ">> Correlation Matrix <<\n",
      "\n",
      "        VOO          BLV     \n",
      "VOO   1.000 ***   -0.067     \n",
      "BLV  -0.067        1.000 *** \n",
      "\n",
      "--\n",
      "Signif. codes:  0.001 '***', 0.01 '**', 0.05 '*', 0.1 '.'\n",
      "\n",
      "\n",
      ">> P-Value Matrix <<\n",
      "\n",
      "      VOO   BLV\n",
      "VOO  .000  .491\n",
      "BLV  .491  .000\n"
     ]
    }
   ],
   "source": [
    "cor(df, method=\"Spearman\", p=\"T\")"
   ]
  },
  {
   "cell_type": "markdown",
   "id": "c547b80a-6bda-4a12-82ab-cf2d184a52da",
   "metadata": {},
   "source": [
    "<h2>Portfolio</h2>"
   ]
  },
  {
   "cell_type": "code",
   "execution_count": 60,
   "id": "a54569ad-0aaa-4daf-b893-48445df01e31",
   "metadata": {},
   "outputs": [
    {
     "data": {
      "text/html": [
       "<div>\n",
       "<style scoped>\n",
       "    .dataframe tbody tr th:only-of-type {\n",
       "        vertical-align: middle;\n",
       "    }\n",
       "\n",
       "    .dataframe tbody tr th {\n",
       "        vertical-align: top;\n",
       "    }\n",
       "\n",
       "    .dataframe thead th {\n",
       "        text-align: right;\n",
       "    }\n",
       "</style>\n",
       "<table border=\"1\" class=\"dataframe\">\n",
       "  <thead>\n",
       "    <tr style=\"text-align: right;\">\n",
       "      <th></th>\n",
       "      <th>VOO</th>\n",
       "      <th>BLV</th>\n",
       "      <th>MEAN</th>\n",
       "      <th>VAR</th>\n",
       "    </tr>\n",
       "  </thead>\n",
       "  <tbody>\n",
       "    <tr>\n",
       "      <th>0</th>\n",
       "      <td>0.0</td>\n",
       "      <td>1.0</td>\n",
       "      <td>0.623</td>\n",
       "      <td>0.069</td>\n",
       "    </tr>\n",
       "    <tr>\n",
       "      <th>1</th>\n",
       "      <td>0.1</td>\n",
       "      <td>0.9</td>\n",
       "      <td>0.669</td>\n",
       "      <td>-0.225</td>\n",
       "    </tr>\n",
       "    <tr>\n",
       "      <th>2</th>\n",
       "      <td>0.2</td>\n",
       "      <td>0.8</td>\n",
       "      <td>0.716</td>\n",
       "      <td>-0.452</td>\n",
       "    </tr>\n",
       "    <tr>\n",
       "      <th>3</th>\n",
       "      <td>0.3</td>\n",
       "      <td>0.7</td>\n",
       "      <td>0.762</td>\n",
       "      <td>-0.613</td>\n",
       "    </tr>\n",
       "    <tr>\n",
       "      <th>4</th>\n",
       "      <td>0.4</td>\n",
       "      <td>0.6</td>\n",
       "      <td>0.808</td>\n",
       "      <td>-0.708</td>\n",
       "    </tr>\n",
       "    <tr>\n",
       "      <th>5</th>\n",
       "      <td>0.5</td>\n",
       "      <td>0.5</td>\n",
       "      <td>0.855</td>\n",
       "      <td>-0.736</td>\n",
       "    </tr>\n",
       "    <tr>\n",
       "      <th>6</th>\n",
       "      <td>0.6</td>\n",
       "      <td>0.4</td>\n",
       "      <td>0.901</td>\n",
       "      <td>-0.698</td>\n",
       "    </tr>\n",
       "    <tr>\n",
       "      <th>7</th>\n",
       "      <td>0.7</td>\n",
       "      <td>0.3</td>\n",
       "      <td>0.947</td>\n",
       "      <td>-0.594</td>\n",
       "    </tr>\n",
       "    <tr>\n",
       "      <th>8</th>\n",
       "      <td>0.8</td>\n",
       "      <td>0.2</td>\n",
       "      <td>0.994</td>\n",
       "      <td>-0.423</td>\n",
       "    </tr>\n",
       "    <tr>\n",
       "      <th>9</th>\n",
       "      <td>0.9</td>\n",
       "      <td>0.1</td>\n",
       "      <td>1.040</td>\n",
       "      <td>-0.186</td>\n",
       "    </tr>\n",
       "    <tr>\n",
       "      <th>10</th>\n",
       "      <td>1.0</td>\n",
       "      <td>0.0</td>\n",
       "      <td>1.086</td>\n",
       "      <td>0.118</td>\n",
       "    </tr>\n",
       "  </tbody>\n",
       "</table>\n",
       "</div>"
      ],
      "text/plain": [
       "    VOO  BLV   MEAN    VAR\n",
       "0   0.0  1.0  0.623  0.069\n",
       "1   0.1  0.9  0.669 -0.225\n",
       "2   0.2  0.8  0.716 -0.452\n",
       "3   0.3  0.7  0.762 -0.613\n",
       "4   0.4  0.6  0.808 -0.708\n",
       "5   0.5  0.5  0.855 -0.736\n",
       "6   0.6  0.4  0.901 -0.698\n",
       "7   0.7  0.3  0.947 -0.594\n",
       "8   0.8  0.2  0.994 -0.423\n",
       "9   0.9  0.1  1.040 -0.186\n",
       "10  1.0  0.0  1.086  0.118"
      ]
     },
     "execution_count": 60,
     "metadata": {},
     "output_type": "execute_result"
    }
   ],
   "source": [
    "portfolio = {\n",
    "    'VOO': [0, 0.1, 0.2, 0.3, 0.4, 0.5, 0.6, 0.7, 0.8, 0.9, 1],\n",
    "    'BLV': [1, 0.9, 0.8, 0.7, 0.6, 0.5, 0.4, 0.3, 0.2, 0.1, 0]  # Adjusted to match the length of 'VOO'\n",
    "}\n",
    "portfolio = pd.DataFrame(portfolio)\n",
    "\n",
    "\n",
    "portfolio['MEAN'] = av_returns_VOO * portfolio['VOO'] + av_returns_BLV * portfolio['BLV']\n",
    "portfolio['VAR'] = (portfolio['VOO'] ** 2) * var_returns_VOO + (portfolio['BLV'] ** 2) * var_returns_BLV + 2*covariance*portfolio['BLV']*portfolio['VOO']\n",
    "\n",
    "\n",
    "round(portfolio,3)"
   ]
  },
  {
   "cell_type": "code",
   "execution_count": 41,
   "id": "095daa54-d0db-4e80-adea-98c026d518c9",
   "metadata": {},
   "outputs": [
    {
     "data": {
      "text/plain": [
       "1.0864950374809077"
      ]
     },
     "execution_count": 41,
     "metadata": {},
     "output_type": "execute_result"
    }
   ],
   "source": [
    "av_returns_VOO"
   ]
  },
  {
   "cell_type": "code",
   "execution_count": 42,
   "id": "c54d7592-c7ae-43ce-8dec-3b56a1cc8a3c",
   "metadata": {},
   "outputs": [
    {
     "data": {
      "text/plain": [
       "1.0864950374809077"
      ]
     },
     "execution_count": 42,
     "metadata": {},
     "output_type": "execute_result"
    }
   ],
   "source": [
    "av_returns_BLV"
   ]
  },
  {
   "cell_type": "code",
   "execution_count": 107,
   "id": "ec0c18ef-f935-407c-be34-8b51146fb987",
   "metadata": {},
   "outputs": [
    {
     "data": {
      "text/plain": [
       "0.00118"
      ]
     },
     "execution_count": 107,
     "metadata": {},
     "output_type": "execute_result"
    }
   ],
   "source": [
    "import numpy as np\n",
    "\n",
    "# List of return percentages\n",
    "returns = [\n",
    "    3.47, -0.44, 3.40, -1.17, -2.16, -1.58, -5.52, -7.31, 11.36, -0.30, 0.52, 5.10,\n",
    "    4.28, 2.84, -0.19, -6.00, 3.59, 1.73, 2.51, 2.03, -1.45, 0.57, 0.29, 5.93,\n",
    "    1.33, 3.12, 2.58, 2.32, -2.00, 5.84, -3.08, 2.87, 4.99, 3.00, 2.08, -3.00,\n",
    "    4.57, 0.42, 1.18, 2.29, 1.63, -0.93, 3.97, -1.85, 2.89, 2.76, -0.86, -2.33,\n",
    "    5.58, -2.07, 1.52, 1.25, -2.40, 2.65, -6.14, -2.98, 9.03, 0.43, -2.32, -4.34,\n",
    "    -0.21, 6.30, 0.89, 1.75, -0.18, 4.20, 0.12, -0.42, -1.35, 3.73, 1.44, 2.42,\n",
    "    3.88, -0.33, 1.51, 1.40, 0.18, 2.52, 0.29, 1.52, 2.85, 3.06, 0.80, 6.09,\n",
    "    -3.73, -2.91, 0.81, 2.42, 0.29, 4.05, 3.22, 0.12, -6.42, 1.89, -9.34, 8.50,\n",
    "    3.25, 1.36, 4.62, -6.35, 6.44, 1.99, -1.64, 1.49, 2.67, 3.63, 2.48\n",
    "]\n",
    "\n",
    "# Converting percentages to fractions\n",
    "returns = np.array(returns) / 100\n",
    "\n",
    "# Calculating the sample variance\n",
    "sample_variance = np.var(returns, ddof=1)\n",
    "sample_variance_rounded = round(sample_variance, 5)\n",
    "sample_variance_rounded"
   ]
  },
  {
   "cell_type": "code",
   "execution_count": 110,
   "id": "c6c87578-b572-440d-8694-fd300dfc21d8",
   "metadata": {},
   "outputs": [
    {
     "name": "stdout",
     "output_type": "stream",
     "text": [
      "[0           NaN\n",
      "1      0.034664\n",
      "2     -0.004434\n",
      "3      0.033973\n",
      "4     -0.011699\n",
      "         ...   \n",
      "103   -0.016405\n",
      "104    0.014892\n",
      "105    0.026691\n",
      "106    0.036259\n",
      "107    0.024770\n",
      "Name: Returns, Length: 108, dtype: float64]\n"
     ]
    }
   ],
   "source": [
    "list=[VOO['Returns']]\n",
    "print(list)"
   ]
  },
  {
   "cell_type": "code",
   "execution_count": 109,
   "id": "656600a9-259c-4bd4-b933-77d760131f9b",
   "metadata": {},
   "outputs": [
    {
     "name": "stdout",
     "output_type": "stream",
     "text": [
      "[ 0.0347 -0.0044  0.034  -0.0117 -0.0216 -0.0158 -0.0552 -0.0731  0.1136\n",
      " -0.003   0.0052  0.051   0.0428  0.0284 -0.0019 -0.06    0.0359  0.0173\n",
      "  0.0251  0.0203 -0.0145  0.0057  0.0029  0.0593  0.0133  0.0312  0.0258\n",
      "  0.0232 -0.02    0.0584 -0.0308  0.0287  0.0499  0.03    0.0208 -0.03\n",
      "  0.0457  0.0042  0.0118  0.0229  0.0163 -0.0093  0.0397 -0.0185  0.0289\n",
      "  0.0276 -0.0086 -0.0233  0.0558 -0.0207  0.0152  0.0125 -0.024   0.0265\n",
      " -0.0614 -0.0298  0.0903  0.0043 -0.0232 -0.0434 -0.0021  0.063   0.0089\n",
      "  0.0175 -0.0018  0.042   0.0012 -0.0042 -0.0135  0.0373  0.0144  0.0242\n",
      "  0.0388 -0.0033  0.0151  0.014   0.0018  0.0252  0.0029  0.0152  0.0285\n",
      "  0.0306  0.008   0.0609 -0.0373 -0.0291  0.0081  0.0242  0.0029  0.0405\n",
      "  0.0322  0.0012 -0.0642  0.0189 -0.0934  0.085   0.0325  0.0136  0.0462\n",
      " -0.0635  0.0644  0.0199 -0.0164  0.0149  0.0267  0.0363  0.0248]\n"
     ]
    }
   ],
   "source": [
    "print(returns)"
   ]
  },
  {
   "cell_type": "code",
   "execution_count": null,
   "id": "0abe22e8-c97a-4f89-905f-8cec0054ffc2",
   "metadata": {},
   "outputs": [],
   "source": []
  }
 ],
 "metadata": {
  "kernelspec": {
   "display_name": "Python 3 (ipykernel)",
   "language": "python",
   "name": "python3"
  },
  "language_info": {
   "codemirror_mode": {
    "name": "ipython",
    "version": 3
   },
   "file_extension": ".py",
   "mimetype": "text/x-python",
   "name": "python",
   "nbconvert_exporter": "python",
   "pygments_lexer": "ipython3",
   "version": "3.8.10"
  }
 },
 "nbformat": 4,
 "nbformat_minor": 5
}
